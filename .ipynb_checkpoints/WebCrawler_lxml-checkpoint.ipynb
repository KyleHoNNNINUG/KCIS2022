{
 "cells": [
  {
   "cell_type": "code",
   "execution_count": 1,
   "id": "31eb8321-0ff1-4caf-a6bc-3742e3a7a7d6",
   "metadata": {},
   "outputs": [
    {
     "name": "stdout",
     "output_type": "stream",
     "text": [
      "Collecting numpy\n",
      "  Downloading numpy-1.23.4-cp310-cp310-win_amd64.whl (14.6 MB)\n",
      "     ---------------------------------------- 14.6/14.6 MB 3.1 MB/s eta 0:00:00\n",
      "Collecting pandas\n",
      "  Downloading pandas-1.5.1-cp310-cp310-win_amd64.whl (10.4 MB)\n",
      "     ---------------------------------------- 10.4/10.4 MB 2.0 MB/s eta 0:00:00\n",
      "Requirement already satisfied: python-dateutil>=2.8.1 in c:\\users\\kyle_ho\\appdata\\local\\programs\\python\\python310\\lib\\site-packages (from pandas) (2.8.2)\n",
      "Requirement already satisfied: pytz>=2020.1 in c:\\users\\kyle_ho\\appdata\\local\\programs\\python\\python310\\lib\\site-packages (from pandas) (2022.5)\n",
      "Requirement already satisfied: six>=1.5 in c:\\users\\kyle_ho\\appdata\\local\\programs\\python\\python310\\lib\\site-packages (from python-dateutil>=2.8.1->pandas) (1.16.0)\n",
      "Installing collected packages: numpy, pandas\n",
      "Successfully installed numpy-1.23.4 pandas-1.5.1\n"
     ]
    }
   ],
   "source": [
    "!pip install numpy pandas"
   ]
  },
  {
   "cell_type": "code",
   "execution_count": 7,
   "id": "6eecf44e-d45c-430f-8fd1-171b0619b455",
   "metadata": {},
   "outputs": [
    {
     "name": "stdout",
     "output_type": "stream",
     "text": [
      "幾維陣列:  1\n",
      "(3,)\n",
      "3\n",
      "int32\n",
      "float64\n",
      "(2, 3)\n"
     ]
    }
   ],
   "source": [
    "import numpy as np\n",
    "\n",
    "a = np.array([1,2,3])\n",
    "a\n",
    "print('幾維陣列: ',a.ndim)\n",
    "print(a.shape)\n",
    "print(a.size)\n",
    "print(a.dtype)\n",
    "print(a.astype(float).dtype)\n",
    "\n",
    "b = np.array([[1,2,3],[4,5,6]])\n",
    "print(b.shape)"
   ]
  },
  {
   "cell_type": "code",
   "execution_count": 8,
   "id": "088d2cb0-879b-4901-99d7-fb4300ac6000",
   "metadata": {},
   "outputs": [
    {
     "name": "stdout",
     "output_type": "stream",
     "text": [
      "Requirement already satisfied: requests in c:\\users\\kyle_ho\\appdata\\local\\programs\\python\\python310\\lib\\site-packages (2.28.1)\n",
      "Requirement already satisfied: idna<4,>=2.5 in c:\\users\\kyle_ho\\appdata\\local\\programs\\python\\python310\\lib\\site-packages (from requests) (3.4)\n",
      "Requirement already satisfied: charset-normalizer<3,>=2 in c:\\users\\kyle_ho\\appdata\\local\\programs\\python\\python310\\lib\\site-packages (from requests) (2.1.1)\n",
      "Requirement already satisfied: urllib3<1.27,>=1.21.1 in c:\\users\\kyle_ho\\appdata\\local\\programs\\python\\python310\\lib\\site-packages (from requests) (1.26.12)\n",
      "Requirement already satisfied: certifi>=2017.4.17 in c:\\users\\kyle_ho\\appdata\\local\\programs\\python\\python310\\lib\\site-packages (from requests) (2022.9.24)\n"
     ]
    }
   ],
   "source": [
    "!pip install requests"
   ]
  },
  {
   "cell_type": "code",
   "execution_count": 20,
   "id": "49542a0a-1fa5-423c-9842-d67a370ff90f",
   "metadata": {},
   "outputs": [],
   "source": [
    "import requests\n",
    "import json\n",
    "\n",
    "url = 'https://www.coingecko.com/price_charts/1/usd/7_days.json'\n",
    "response = requests.get(url)"
   ]
  },
  {
   "cell_type": "code",
   "execution_count": 17,
   "id": "c2d1556e-66d1-4378-8ef7-34181b3f5661",
   "metadata": {},
   "outputs": [
    {
     "name": "stdout",
     "output_type": "stream",
     "text": [
      "success\n"
     ]
    }
   ],
   "source": [
    "if response.status_code == 200:\n",
    "    print('success')\n",
    "else:\n",
    "    print('error')"
   ]
  },
  {
   "cell_type": "code",
   "execution_count": 22,
   "id": "d5fd863c-deef-426e-b121-ad2121e3f437",
   "metadata": {},
   "outputs": [],
   "source": [
    "d = json.loads(response.text)"
   ]
  },
  {
   "cell_type": "code",
   "execution_count": 24,
   "id": "41d68bfd-d2f2-4484-ac02-d4b48a83573e",
   "metadata": {},
   "outputs": [
    {
     "data": {
      "text/plain": [
       "dict"
      ]
     },
     "execution_count": 24,
     "metadata": {},
     "output_type": "execute_result"
    }
   ],
   "source": [
    "type(d)"
   ]
  },
  {
   "cell_type": "code",
   "execution_count": 27,
   "id": "a387f4ca-f176-495c-95b7-da6f3e2c9535",
   "metadata": {},
   "outputs": [
    {
     "name": "stdout",
     "output_type": "stream",
     "text": [
      "Requirement already satisfied: lxml in c:\\users\\kyle_ho\\appdata\\local\\programs\\python\\python310\\lib\\site-packages (4.9.1)\n"
     ]
    }
   ],
   "source": [
    "!pip install lxml"
   ]
  },
  {
   "cell_type": "code",
   "execution_count": 33,
   "id": "d1c1e4fe-3e21-491d-b51d-20062387887d",
   "metadata": {},
   "outputs": [],
   "source": [
    "import lxml.html\n",
    "\n",
    "url2 = 'https://mingyanjiaju.org/xiehouyu/40033.html'\n",
    "resp2 = requests.get(url2)"
   ]
  },
  {
   "cell_type": "code",
   "execution_count": 35,
   "id": "5e68af90-c495-478d-b733-dd4c92fc539b",
   "metadata": {},
   "outputs": [],
   "source": [
    "#print(resp2.text)"
   ]
  },
  {
   "cell_type": "code",
   "execution_count": 36,
   "id": "05223e4d-47e6-4ee4-990b-b32b16c677e2",
   "metadata": {},
   "outputs": [],
   "source": [
    "tree = lxml.html.fromstring(resp2.text)"
   ]
  },
  {
   "cell_type": "code",
   "execution_count": 43,
   "id": "7aa349fe-8b46-4195-9dde-47b86e34bb06",
   "metadata": {},
   "outputs": [],
   "source": [
    "xpath = '/html/body/div[3]/div[1]/div/p[3]'"
   ]
  },
  {
   "cell_type": "code",
   "execution_count": 44,
   "id": "14c8a357-25c4-4409-9409-023f5d130c87",
   "metadata": {},
   "outputs": [
    {
     "data": {
      "text/plain": [
       "[<Element p at 0x27bbc27d030>]"
      ]
     },
     "execution_count": 44,
     "metadata": {},
     "output_type": "execute_result"
    }
   ],
   "source": [
    "data = tree.xpath(xpath)\n",
    "data"
   ]
  },
  {
   "cell_type": "code",
   "execution_count": 40,
   "id": "bd247d6f-c1d5-438d-91f3-bb9468ec852c",
   "metadata": {},
   "outputs": [
    {
     "data": {
      "text/plain": [
       "'關公走麥城——驕必敗 '"
      ]
     },
     "execution_count": 40,
     "metadata": {},
     "output_type": "execute_result"
    }
   ],
   "source": [
    "data[0].text"
   ]
  },
  {
   "cell_type": "code",
   "execution_count": 45,
   "id": "87d7e864-1162-48e2-8dec-1df974a70628",
   "metadata": {},
   "outputs": [],
   "source": [
    "data2 = tree.xpath('/html/body/div[3]/div[1]/div')"
   ]
  },
  {
   "cell_type": "code",
   "execution_count": 51,
   "id": "1bf59728-0ab0-4e92-a05e-5284d375780b",
   "metadata": {},
   "outputs": [
    {
     "name": "stdout",
     "output_type": "stream",
     "text": [
      "None\n",
      "None\n",
      "None\n"
     ]
    }
   ],
   "source": [
    "for d in data2[0]:\n",
    "    if d.text:\n",
    "        #print(d.text)\n",
    "        pass\n",
    "    else:\n",
    "            print(d.text)"
   ]
  },
  {
   "cell_type": "code",
   "execution_count": null,
   "id": "d073abe7-9f45-4b8a-b691-5ddb4fa45291",
   "metadata": {},
   "outputs": [],
   "source": []
  },
  {
   "cell_type": "code",
   "execution_count": null,
   "id": "770377a7-0841-4ee3-b93e-2ad83acecbc7",
   "metadata": {},
   "outputs": [],
   "source": []
  },
  {
   "cell_type": "code",
   "execution_count": null,
   "id": "360f6daa-70d4-42ab-8cb6-3b90ee448840",
   "metadata": {},
   "outputs": [],
   "source": []
  },
  {
   "cell_type": "code",
   "execution_count": null,
   "id": "6849c359-0e0c-4f35-99de-bf431ff872a4",
   "metadata": {},
   "outputs": [],
   "source": []
  },
  {
   "cell_type": "code",
   "execution_count": null,
   "id": "fbbce80b-d8ad-476d-bb4d-504d3e868a93",
   "metadata": {},
   "outputs": [],
   "source": []
  },
  {
   "cell_type": "code",
   "execution_count": null,
   "id": "84bc2647-c126-4701-bd84-be1cd8e13595",
   "metadata": {},
   "outputs": [],
   "source": []
  },
  {
   "cell_type": "code",
   "execution_count": null,
   "id": "6ef960a9-fe37-4f1c-862a-360bd5080e10",
   "metadata": {},
   "outputs": [],
   "source": []
  }
 ],
 "metadata": {
  "kernelspec": {
   "display_name": "Python 3 (ipykernel)",
   "language": "python",
   "name": "python3"
  },
  "language_info": {
   "codemirror_mode": {
    "name": "ipython",
    "version": 3
   },
   "file_extension": ".py",
   "mimetype": "text/x-python",
   "name": "python",
   "nbconvert_exporter": "python",
   "pygments_lexer": "ipython3",
   "version": "3.10.8"
  }
 },
 "nbformat": 4,
 "nbformat_minor": 5
}
