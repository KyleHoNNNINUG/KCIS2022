{
 "cells": [
  {
   "cell_type": "code",
   "execution_count": 2,
   "id": "3b24a51f-bf05-43e6-8e8c-fc0510633586",
   "metadata": {},
   "outputs": [
    {
     "name": "stdout",
     "output_type": "stream",
     "text": [
      "Requirement already satisfied: tortoise-orm in c:\\users\\kyle_ho\\appdata\\local\\programs\\python\\python310\\lib\\site-packages (0.19.2)\n",
      "Requirement already satisfied: pypika-tortoise<0.2.0,>=0.1.6 in c:\\users\\kyle_ho\\appdata\\local\\programs\\python\\python310\\lib\\site-packages (from tortoise-orm) (0.1.6)\n",
      "Requirement already satisfied: pytz in c:\\users\\kyle_ho\\appdata\\local\\programs\\python\\python310\\lib\\site-packages (from tortoise-orm) (2022.5)\n",
      "Requirement already satisfied: aiosqlite<0.18.0,>=0.16.0 in c:\\users\\kyle_ho\\appdata\\local\\programs\\python\\python310\\lib\\site-packages (from tortoise-orm) (0.17.0)\n",
      "Requirement already satisfied: iso8601<2.0.0,>=1.0.2 in c:\\users\\kyle_ho\\appdata\\local\\programs\\python\\python310\\lib\\site-packages (from tortoise-orm) (1.1.0)\n",
      "Requirement already satisfied: typing_extensions>=3.7.2 in c:\\users\\kyle_ho\\appdata\\local\\programs\\python\\python310\\lib\\site-packages (from aiosqlite<0.18.0,>=0.16.0->tortoise-orm) (4.4.0)\n",
      "Requirement already satisfied: nest_asyncio in c:\\users\\kyle_ho\\appdata\\local\\programs\\python\\python310\\lib\\site-packages (1.5.6)\n"
     ]
    }
   ],
   "source": [
    "!pip install tortoise-orm\n",
    "!pip install nest_asyncio"
   ]
  },
  {
   "cell_type": "code",
   "execution_count": 2,
   "id": "be4cec83-47cf-45e3-85a4-1061640dcb0d",
   "metadata": {},
   "outputs": [],
   "source": [
    "import nest_asyncio\n",
    "nest_asyncio.apply()"
   ]
  },
  {
   "cell_type": "code",
   "execution_count": 3,
   "id": "033224de-4ed7-4d96-b570-d9b54e022464",
   "metadata": {},
   "outputs": [],
   "source": [
    "from tortoise import Tortoise, run_async\n",
    "\n",
    "async def init():\n",
    "    await Tortoise.init(\n",
    "        db_url='sqlite://db.sqlite3',\n",
    "        modules={'models':['app.models']}\n",
    "    )\n",
    "    await Tortoise.generate_schemas()"
   ]
  },
  {
   "cell_type": "code",
   "execution_count": 4,
   "id": "62a93b84-7ab8-442d-b6b8-8a91490505a2",
   "metadata": {},
   "outputs": [],
   "source": [
    "run_async(init())"
   ]
  },
  {
   "cell_type": "code",
   "execution_count": 5,
   "id": "f2f1da75-24f9-4e38-8cfb-307da8d7b527",
   "metadata": {},
   "outputs": [],
   "source": [
    "from app.models import Student, Club, School"
   ]
  },
  {
   "cell_type": "code",
   "execution_count": 6,
   "id": "9772db04-d4fb-44db-b28d-d91afcb2c91b",
   "metadata": {},
   "outputs": [],
   "source": [
    "school = School(name='康橋')\n",
    "await school.save()"
   ]
  },
  {
   "cell_type": "code",
   "execution_count": 7,
   "id": "5e14cb1d-e65e-4ae3-8c90-6a6976bde99a",
   "metadata": {},
   "outputs": [],
   "source": [
    "studentK = Student(name='Kyle', school=school)\n",
    "await studentK.save()"
   ]
  },
  {
   "cell_type": "code",
   "execution_count": 8,
   "id": "6c92b933-6ec5-47b7-95a7-416dd8022121",
   "metadata": {},
   "outputs": [
    {
     "data": {
      "text/plain": [
       "3"
      ]
     },
     "execution_count": 8,
     "metadata": {},
     "output_type": "execute_result"
    }
   ],
   "source": [
    "studentK.id"
   ]
  },
  {
   "cell_type": "code",
   "execution_count": 9,
   "id": "64119a86-063c-4c89-82fb-83c79f1057d6",
   "metadata": {},
   "outputs": [
    {
     "data": {
      "text/plain": [
       "'康橋'"
      ]
     },
     "execution_count": 9,
     "metadata": {},
     "output_type": "execute_result"
    }
   ],
   "source": [
    "studentK.school.name"
   ]
  },
  {
   "cell_type": "code",
   "execution_count": 10,
   "id": "bbcff6d3-0d77-455f-beb1-c1ee2cff7f12",
   "metadata": {},
   "outputs": [
    {
     "data": {
      "text/plain": [
       "2"
      ]
     },
     "execution_count": 10,
     "metadata": {},
     "output_type": "execute_result"
    }
   ],
   "source": [
    "studentK.school.id"
   ]
  },
  {
   "cell_type": "code",
   "execution_count": 11,
   "id": "13355f01-13b0-4ad8-95b8-5e5a46e0b7f2",
   "metadata": {},
   "outputs": [],
   "source": [
    "studentK.name='KH'"
   ]
  },
  {
   "cell_type": "code",
   "execution_count": 12,
   "id": "0e73c5d4-e702-44d1-b3b1-2ac71e668e90",
   "metadata": {},
   "outputs": [
    {
     "data": {
      "text/plain": [
       "'KH'"
      ]
     },
     "execution_count": 12,
     "metadata": {},
     "output_type": "execute_result"
    }
   ],
   "source": [
    "studentK.name"
   ]
  },
  {
   "cell_type": "code",
   "execution_count": 13,
   "id": "862b9f0b-9dc6-40e0-b7da-a1c24f2187e9",
   "metadata": {},
   "outputs": [],
   "source": [
    "s = await School.filter(name='康橋')"
   ]
  },
  {
   "cell_type": "code",
   "execution_count": 14,
   "id": "f1014be9-97b5-49a2-bf5b-495045000a37",
   "metadata": {},
   "outputs": [
    {
     "data": {
      "text/plain": [
       "'康橋'"
      ]
     },
     "execution_count": 14,
     "metadata": {},
     "output_type": "execute_result"
    }
   ],
   "source": [
    "s[0].name"
   ]
  },
  {
   "cell_type": "code",
   "execution_count": 15,
   "id": "cef2fb7d-7b52-4b0c-9ed1-d02f8e51961f",
   "metadata": {},
   "outputs": [
    {
     "ename": "MultipleObjectsReturned",
     "evalue": "Multiple objects returned, expected exactly one",
     "output_type": "error",
     "traceback": [
      "\u001b[1;31m---------------------------------------------------------------------------\u001b[0m",
      "\u001b[1;31mMultipleObjectsReturned\u001b[0m                   Traceback (most recent call last)",
      "Cell \u001b[1;32mIn [15], line 1\u001b[0m\n\u001b[1;32m----> 1\u001b[0m \u001b[38;5;28;01mawait\u001b[39;00m School\u001b[38;5;241m.\u001b[39mget(name\u001b[38;5;241m=\u001b[39m\u001b[38;5;124m'\u001b[39m\u001b[38;5;124m康橋\u001b[39m\u001b[38;5;124m'\u001b[39m)\n",
      "File \u001b[1;32m~\\AppData\\Local\\Programs\\Python\\Python310\\lib\\site-packages\\tortoise\\queryset.py:1020\u001b[0m, in \u001b[0;36mQuerySet._execute\u001b[1;34m(self)\u001b[0m\n\u001b[0;32m   1018\u001b[0m             \u001b[38;5;28;01mraise\u001b[39;00m DoesNotExist(\u001b[38;5;124m\"\u001b[39m\u001b[38;5;124mObject does not exist\u001b[39m\u001b[38;5;124m\"\u001b[39m)\n\u001b[0;32m   1019\u001b[0m         \u001b[38;5;28;01mreturn\u001b[39;00m \u001b[38;5;28;01mNone\u001b[39;00m  \u001b[38;5;66;03m# type: ignore\u001b[39;00m\n\u001b[1;32m-> 1020\u001b[0m     \u001b[38;5;28;01mraise\u001b[39;00m MultipleObjectsReturned(\u001b[38;5;124m\"\u001b[39m\u001b[38;5;124mMultiple objects returned, expected exactly one\u001b[39m\u001b[38;5;124m\"\u001b[39m)\n\u001b[0;32m   1021\u001b[0m \u001b[38;5;28;01mreturn\u001b[39;00m instance_list\n",
      "\u001b[1;31mMultipleObjectsReturned\u001b[0m: Multiple objects returned, expected exactly one"
     ]
    }
   ],
   "source": [
    "await School.get(name='康橋')"
   ]
  },
  {
   "cell_type": "code",
   "execution_count": 16,
   "id": "72b08e99-a4d8-46e2-8ce0-dfbf32161fef",
   "metadata": {},
   "outputs": [
    {
     "data": {
      "text/plain": [
       "1"
      ]
     },
     "execution_count": 16,
     "metadata": {},
     "output_type": "execute_result"
    }
   ],
   "source": [
    "await Student.filter(name='Kyle').update(name='KH')"
   ]
  },
  {
   "cell_type": "code",
   "execution_count": null,
   "id": "c7e350d3-cc23-4862-becb-8dba17ffcd62",
   "metadata": {},
   "outputs": [],
   "source": []
  }
 ],
 "metadata": {
  "kernelspec": {
   "display_name": "Python 3 (ipykernel)",
   "language": "python",
   "name": "python3"
  },
  "language_info": {
   "codemirror_mode": {
    "name": "ipython",
    "version": 3
   },
   "file_extension": ".py",
   "mimetype": "text/x-python",
   "name": "python",
   "nbconvert_exporter": "python",
   "pygments_lexer": "ipython3",
   "version": "3.10.8"
  }
 },
 "nbformat": 4,
 "nbformat_minor": 5
}
